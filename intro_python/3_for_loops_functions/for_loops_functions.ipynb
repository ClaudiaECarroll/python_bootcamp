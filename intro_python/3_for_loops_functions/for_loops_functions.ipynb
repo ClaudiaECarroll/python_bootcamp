{
  "nbformat": 4,
  "nbformat_minor": 0,
  "metadata": {
    "colab": {
      "provenance": []
    },
    "kernelspec": {
      "name": "python3",
      "display_name": "Python 3"
    },
    "language_info": {
      "name": "python"
    }
  },
  "cells": [
    {
      "cell_type": "markdown",
      "source": [
        "# Demo 3 for Intro Python #\n",
        "\n",
        "## Introducing:\n",
        "\n",
        "* For Loops!\n",
        "* Functions"
      ],
      "metadata": {
        "id": "R32CSCSxhqM-"
      }
    },
    {
      "cell_type": "code",
      "source": [
        "for number in [2, 3, 5]:\n",
        "    print(number)"
      ],
      "metadata": {
        "id": "IRuRAsQoiVVD",
        "colab": {
          "base_uri": "https://localhost:8080/"
        },
        "outputId": "baa3408c-2d4c-425c-cc35-b2b191420f04"
      },
      "execution_count": null,
      "outputs": [
        {
          "output_type": "stream",
          "name": "stdout",
          "text": [
            "2\n",
            "3\n",
            "5\n"
          ]
        }
      ]
    },
    {
      "cell_type": "code",
      "source": [
        "for x in \"Washington\":\n",
        "  print(x)"
      ],
      "metadata": {
        "id": "YZ6eOgCzi4xR"
      },
      "execution_count": null,
      "outputs": []
    },
    {
      "cell_type": "code",
      "source": [
        "store_shelf = [\"apples\", \"bread\", \"cookies\",\n",
        "               \"avocados\", \"eggs\", \"milk\", \"carrots\"]\n",
        "\n",
        "for item in store_shelf:\n",
        "    print(item)"
      ],
      "metadata": {
        "id": "E-FQ9syijTCV"
      },
      "execution_count": null,
      "outputs": []
    },
    {
      "cell_type": "code",
      "source": [
        "# The loop variable can be anything\n",
        "\n",
        "for kitten in [2, 3, 5]:\n",
        "    print(kitten)"
      ],
      "metadata": {
        "id": "Z9E9UL6CjjOF",
        "colab": {
          "base_uri": "https://localhost:8080/"
        },
        "outputId": "285cab8e-31e1-44cc-c03b-c8be2bc33ca4"
      },
      "execution_count": null,
      "outputs": [
        {
          "output_type": "stream",
          "name": "stdout",
          "text": [
            "2\n",
            "3\n",
            "5\n"
          ]
        }
      ]
    },
    {
      "cell_type": "code",
      "source": [
        "# Loop with conditional\n",
        "\n",
        "for kitten in [2, 3, 5]:\n",
        "    if kitten < 4:\n",
        "        print(kitten)"
      ],
      "metadata": {
        "colab": {
          "base_uri": "https://localhost:8080/"
        },
        "id": "Up7ciQGsdisg",
        "outputId": "c19dd708-0db2-4dd8-b64e-178934a95670"
      },
      "execution_count": null,
      "outputs": [
        {
          "output_type": "stream",
          "name": "stdout",
          "text": [
            "2\n",
            "3\n"
          ]
        }
      ]
    },
    {
      "cell_type": "code",
      "source": [
        "# 'break' can be used to STOP the loop if the condition is met\n",
        "\n",
        "for kitten in [2, 3, 5]:\n",
        "    if kitten == 3:\n",
        "        break\n",
        "    print(kitten)"
      ],
      "metadata": {
        "colab": {
          "base_uri": "https://localhost:8080/"
        },
        "id": "TzAZiOj4bqNY",
        "outputId": "21f9a513-638e-4474-8e92-bf1184fa9ab6"
      },
      "execution_count": null,
      "outputs": [
        {
          "output_type": "stream",
          "name": "stdout",
          "text": [
            "2\n"
          ]
        }
      ]
    },
    {
      "cell_type": "code",
      "source": [
        "# 'continue' can be use to SKIP an iteration of the loop if a condition is met\n",
        "\n",
        "for kitten in [2, 3, 5]:\n",
        "    if kitten == 3:\n",
        "        continue\n",
        "    print(kitten)"
      ],
      "metadata": {
        "colab": {
          "base_uri": "https://localhost:8080/"
        },
        "id": "EVzyur7MbqKp",
        "outputId": "339aa286-84eb-4afc-fefb-a4769e9e7b83"
      },
      "execution_count": null,
      "outputs": [
        {
          "output_type": "stream",
          "name": "stdout",
          "text": [
            "2\n",
            "5\n"
          ]
        }
      ]
    },
    {
      "cell_type": "code",
      "source": [
        "# 'else' can be used to add an additional action at the end of a loop\n",
        "\n",
        "for kitten in [2, 3, 5]:\n",
        "   print(kitten)\n",
        "else:\n",
        "  print(\"All done!\")"
      ],
      "metadata": {
        "colab": {
          "base_uri": "https://localhost:8080/"
        },
        "id": "XReqdlo7bqHx",
        "outputId": "35d538b1-51f0-43f5-9c29-001d4d37d45e"
      },
      "execution_count": null,
      "outputs": [
        {
          "output_type": "stream",
          "name": "stdout",
          "text": [
            "2\n",
            "3\n",
            "5\n",
            "All done!\n"
          ]
        }
      ]
    },
    {
      "cell_type": "code",
      "source": [
        "# We can create local variables within the for loop\n",
        "\n",
        "primes = [2, 3, 5]\n",
        "\n",
        "for p in primes:\n",
        "    squared = p ** 2\n",
        "    cubed = p ** 3\n",
        "    x = [p, squared, cubed]\n",
        "    print(x[-1])"
      ],
      "metadata": {
        "id": "3tsDWpqhjwiC",
        "colab": {
          "base_uri": "https://localhost:8080/"
        },
        "outputId": "c8b79c1b-4481-48f0-d09b-1bceaca3ab42"
      },
      "execution_count": null,
      "outputs": [
        {
          "output_type": "stream",
          "name": "stdout",
          "text": [
            "8\n",
            "27\n",
            "125\n"
          ]
        }
      ]
    },
    {
      "cell_type": "code",
      "source": [
        "# Variable created in the loop is available outside the loop (Unless you are using a function!!)\n",
        "\n",
        "print(x)"
      ],
      "metadata": {
        "colab": {
          "base_uri": "https://localhost:8080/"
        },
        "id": "fPt3DDk7ePE0",
        "outputId": "16c6a122-9c65-45d2-b37f-e287285effe9"
      },
      "execution_count": null,
      "outputs": [
        {
          "output_type": "stream",
          "name": "stdout",
          "text": [
            "[5, 25, 125]\n"
          ]
        }
      ]
    },
    {
      "cell_type": "code",
      "source": [
        "# The range() function can be used to run a loop with a set number of iterations\n",
        "\n",
        "for number in range(0, 3):\n",
        "    print(number)"
      ],
      "metadata": {
        "id": "JVJ03R02j4GR",
        "colab": {
          "base_uri": "https://localhost:8080/"
        },
        "outputId": "d43a856b-9a9d-4180-baf9-43954033fa1a"
      },
      "execution_count": null,
      "outputs": [
        {
          "output_type": "stream",
          "name": "stdout",
          "text": [
            "0\n",
            "1\n",
            "2\n"
          ]
        }
      ]
    },
    {
      "cell_type": "code",
      "source": [
        "# We can update a global variable using a for loop\n",
        "\n",
        "length = 0\n",
        "\n",
        "names = ['Curie', 'Darwin', 'Turing']\n",
        "\n",
        "for value in names:\n",
        "    length = length + 1\n",
        "\n",
        "print('There are', length, 'names in the list.')"
      ],
      "metadata": {
        "id": "boUg1noAlC1T",
        "colab": {
          "base_uri": "https://localhost:8080/"
        },
        "outputId": "65f6589b-f936-467f-af68-fd8204c3478f"
      },
      "execution_count": null,
      "outputs": [
        {
          "output_type": "stream",
          "name": "stdout",
          "text": [
            "There are 3 names in the list.\n"
          ]
        }
      ]
    },
    {
      "cell_type": "code",
      "source": [
        "# Accumulating data across loops\n",
        "\n",
        "total = 0\n",
        "for char in \"tin\":\n",
        "    total = total + 1\n",
        "\n",
        "    print(total)"
      ],
      "metadata": {
        "id": "uCHPlKR7kNPP",
        "colab": {
          "base_uri": "https://localhost:8080/"
        },
        "outputId": "3938f893-2bf5-4594-fb13-2461332c2209"
      },
      "execution_count": null,
      "outputs": [
        {
          "output_type": "stream",
          "name": "stdout",
          "text": [
            "1\n",
            "2\n",
            "3\n"
          ]
        }
      ]
    },
    {
      "cell_type": "code",
      "source": [
        "#Indentation matters!\n",
        "\n",
        "total = 0\n",
        "\n",
        "for char in \"tin\":\n",
        "  total = total + 1\n",
        "\n",
        "print(total)"
      ],
      "metadata": {
        "id": "_TqCepanketj",
        "colab": {
          "base_uri": "https://localhost:8080/"
        },
        "outputId": "c6e53af0-02e6-47e9-9053-4338253198c3"
      },
      "execution_count": null,
      "outputs": [
        {
          "output_type": "stream",
          "name": "stdout",
          "text": [
            "3\n"
          ]
        }
      ]
    },
    {
      "cell_type": "markdown",
      "source": [
        "## For Loop Exercise 1\n",
        "\n",
        "Using your store_shelf list:\n",
        "\n",
        "1. Write a for loop to print all the items in the list starting with the letter “a”\n",
        "\n",
        "2. Write a for loop to print all the items in your list that are longer than 5 letters"
      ],
      "metadata": {
        "id": "AynTEPffm_Wf"
      }
    },
    {
      "cell_type": "code",
      "source": [
        "store_shelf = [\"apples\", \"bread\", \"cookies\", \"avocados\", \"eggs\", \"milk\", \"carrots\"]\n",
        "\n",
        "for x in store_shelf:\n",
        "  if x[0] == \"a\":\n",
        "      print(x)\n"
      ],
      "metadata": {
        "id": "ze32P0qzkj6G",
        "colab": {
          "base_uri": "https://localhost:8080/"
        },
        "outputId": "bbbca5e7-06c7-48fb-f963-2f4b607ff2a0"
      },
      "execution_count": null,
      "outputs": [
        {
          "output_type": "stream",
          "name": "stdout",
          "text": [
            "apples\n",
            "avocados\n"
          ]
        }
      ]
    },
    {
      "cell_type": "code",
      "source": [
        "for x in store_shelf:\n",
        "  if len(x) > 5:\n",
        "    print(x)"
      ],
      "metadata": {
        "id": "ctummSxGA6nD",
        "colab": {
          "base_uri": "https://localhost:8080/"
        },
        "outputId": "ef6a7b89-cdf0-4dd3-96ba-4e1738aaa86e"
      },
      "execution_count": null,
      "outputs": [
        {
          "output_type": "stream",
          "name": "stdout",
          "text": [
            "apples\n",
            "cookies\n",
            "avocados\n",
            "carrots\n"
          ]
        }
      ]
    },
    {
      "cell_type": "markdown",
      "source": [
        "## For Loop Exercise 2\n",
        "\n",
        "Using your department lists from earlier in the lesson:\n",
        "\n",
        "humanities = [\"English\", \"History\", \"French\", \"Art History\", \"Philosophy\"]\n",
        "\n",
        "sciences = [\"Biology\", \"Chemistry\", \"Neuroscience\", \"Physics\", \"Ecology\"]\n",
        "\n",
        "1. Write a for loop that finds the words in the humanities list that have the same number of letters as a word in the science list, printing the two words and the statement “These words have the same number of letters!” when there is a match for the number of letters.\n"
      ],
      "metadata": {
        "id": "RATqfXTLBBHs"
      }
    },
    {
      "cell_type": "code",
      "source": [
        "humanities = [\"English\", \"History\", \"French\", \"Art History\", \"Philosophy\"]\n",
        "\n",
        "sciences = [\"Biology\", \"Chemistry\", \"Neuroscience\", \"Physics\", \"Ecology\"]\n",
        "\n",
        "for x in humanities:\n",
        "  for y in sciences:\n",
        "    if len(x) == len(y):\n",
        "      print(x, y, \": These words have the same number of letters!\")"
      ],
      "metadata": {
        "id": "vZx2h1yxBLvz",
        "colab": {
          "base_uri": "https://localhost:8080/"
        },
        "outputId": "5e4a9c6b-0552-4c58-c900-c658e25c7b7a"
      },
      "execution_count": null,
      "outputs": [
        {
          "output_type": "stream",
          "name": "stdout",
          "text": [
            "English Biology : These words have the same number of letters!\n",
            "English Physics : These words have the same number of letters!\n",
            "English Ecology : These words have the same number of letters!\n",
            "History Biology : These words have the same number of letters!\n",
            "History Physics : These words have the same number of letters!\n",
            "History Ecology : These words have the same number of letters!\n"
          ]
        }
      ]
    },
    {
      "cell_type": "markdown",
      "source": [
        "## Part 2: Functions\n",
        "\n",
        "Functions are use to SAVE a block of code for future use.\n"
      ],
      "metadata": {
        "id": "OfUStDdD40j6"
      }
    },
    {
      "cell_type": "code",
      "source": [
        "print(\"Hello\")"
      ],
      "metadata": {
        "colab": {
          "base_uri": "https://localhost:8080/"
        },
        "id": "iz7s9m6JUcQI",
        "outputId": "ba79c388-770e-4d20-9767-6514ff76beeb"
      },
      "execution_count": null,
      "outputs": [
        {
          "output_type": "stream",
          "name": "stdout",
          "text": [
            "Hello\n"
          ]
        }
      ]
    },
    {
      "cell_type": "code",
      "execution_count": null,
      "metadata": {
        "id": "ec17a659"
      },
      "outputs": [],
      "source": [
        "# creating a function\n",
        "\n",
        "def disciplines():\n",
        "    print(\"English\")\n",
        "    print(\"History\")\n",
        "    print(\"Business\")\n",
        "    print(\"Biology\")"
      ]
    },
    {
      "cell_type": "code",
      "execution_count": null,
      "metadata": {
        "id": "f2116e3a",
        "outputId": "00957fb0-b0f1-49da-ff72-c778a48c5c6e",
        "colab": {
          "base_uri": "https://localhost:8080/"
        }
      },
      "outputs": [
        {
          "output_type": "stream",
          "name": "stdout",
          "text": [
            "English\n",
            "History\n",
            "Business\n",
            "Biology\n"
          ]
        }
      ],
      "source": [
        "# Running the function\n",
        "\n",
        "disciplines()"
      ]
    },
    {
      "cell_type": "code",
      "execution_count": null,
      "metadata": {
        "id": "2611e90e"
      },
      "outputs": [],
      "source": [
        "#Parameters and arguments\n",
        "#Print (print output) vs. return (SAVE output and end function)\n",
        "\n",
        "food = [\"bread\", \"milk\", \"eggs\"]\n",
        "\n",
        "def groceries(x):\n",
        "    return(x)"
      ]
    },
    {
      "cell_type": "code",
      "execution_count": null,
      "metadata": {
        "id": "9babad23",
        "outputId": "7d5a1a17-21b6-4bb1-d6a1-37743b2bb568",
        "colab": {
          "base_uri": "https://localhost:8080/"
        }
      },
      "outputs": [
        {
          "output_type": "execute_result",
          "data": {
            "text/plain": [
              "['bread', 'milk', 'eggs']"
            ]
          },
          "metadata": {},
          "execution_count": 5
        }
      ],
      "source": [
        "groceries(food)"
      ]
    },
    {
      "cell_type": "code",
      "execution_count": null,
      "metadata": {
        "id": "5ea3bf19"
      },
      "outputs": [],
      "source": [
        "#Function with numbers\n",
        "\n",
        "def squares(x):\n",
        "    return(x*x)"
      ]
    },
    {
      "cell_type": "code",
      "source": [
        "squares(3)"
      ],
      "metadata": {
        "colab": {
          "base_uri": "https://localhost:8080/"
        },
        "id": "R9Cs_RFlC6X7",
        "outputId": "a6e8ec43-d07a-40a6-915c-c15812d228f9"
      },
      "execution_count": null,
      "outputs": [
        {
          "output_type": "execute_result",
          "data": {
            "text/plain": [
              "9"
            ]
          },
          "metadata": {},
          "execution_count": 7
        }
      ]
    },
    {
      "cell_type": "code",
      "execution_count": null,
      "metadata": {
        "id": "5e447bb2",
        "outputId": "09c377fc-d978-48da-e808-b00c06858cac",
        "colab": {
          "base_uri": "https://localhost:8080/"
        }
      },
      "outputs": [
        {
          "output_type": "stream",
          "name": "stdout",
          "text": [
            "225\n",
            "289\n",
            "361\n",
            "400\n"
          ]
        }
      ],
      "source": [
        "# Using a function inside a loop\n",
        "\n",
        "numbers = [15, 17, 19, 20]\n",
        "\n",
        "for num in numbers:\n",
        "    x = squares(num)\n",
        "    print(x)\n"
      ]
    },
    {
      "cell_type": "code",
      "execution_count": null,
      "metadata": {
        "id": "bcf5efd3"
      },
      "outputs": [],
      "source": [
        "# Using a loop inside a function\n",
        "\n",
        "numbers = [15, 17, 19, 20]\n",
        "\n",
        "def square_list(y):\n",
        "    for x in y:\n",
        "      print(x*x)\n",
        "    return\n"
      ]
    },
    {
      "cell_type": "code",
      "execution_count": null,
      "metadata": {
        "id": "cb2672b8",
        "outputId": "60472cd7-9a07-473b-acf4-ef751105847a",
        "colab": {
          "base_uri": "https://localhost:8080/"
        }
      },
      "outputs": [
        {
          "output_type": "stream",
          "name": "stdout",
          "text": [
            "225\n",
            "289\n",
            "361\n",
            "400\n"
          ]
        }
      ],
      "source": [
        "square_list(numbers)"
      ]
    },
    {
      "cell_type": "code",
      "execution_count": null,
      "metadata": {
        "id": "3bccb784"
      },
      "outputs": [],
      "source": [
        "#using multiple parameters\n",
        "\n",
        "def introduction(name, department):\n",
        "    return(\"My name is \" + name + \" and I work in the \" + department + \" department\")\n",
        "\n"
      ]
    },
    {
      "cell_type": "code",
      "execution_count": null,
      "metadata": {
        "id": "9a569033",
        "outputId": "5f77492f-cc55-4cb4-b725-d7dc79e1845b",
        "colab": {
          "base_uri": "https://localhost:8080/",
          "height": 35
        }
      },
      "outputs": [
        {
          "output_type": "execute_result",
          "data": {
            "text/plain": [
              "'My name is Claudia and I work in the English department'"
            ],
            "application/vnd.google.colaboratory.intrinsic+json": {
              "type": "string"
            }
          },
          "metadata": {},
          "execution_count": 19
        }
      ],
      "source": [
        "introduction(name=\"Claudia\", department=\"English\")"
      ]
    },
    {
      "cell_type": "markdown",
      "source": [
        "## Functions Exercise\n",
        "\n",
        "Given a list foods = [“eggs”, “bread”, “milk”, “cookies”]\n",
        "\n",
        "Create a function to return all words in the list that are longer than 5 letters."
      ],
      "metadata": {
        "id": "R7hhpc-5Eckn"
      }
    },
    {
      "cell_type": "code",
      "source": [
        "foods = [\"eggs\", \"bread\", \"milk\", \"cookies\"]\n",
        "\n",
        "def long_strings(x):\n",
        "    for food in x:\n",
        "        if len(food) > 4:\n",
        "            print(food)\n",
        "    return\n",
        "\n",
        "long_strings(foods)"
      ],
      "metadata": {
        "id": "ph2cAyqDEi8F"
      },
      "execution_count": null,
      "outputs": []
    }
  ]
}